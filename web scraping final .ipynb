{
 "cells": [
  {
   "cell_type": "code",
   "execution_count": 8,
   "id": "dc473d1d",
   "metadata": {},
   "outputs": [
    {
     "name": "stdout",
     "output_type": "stream",
     "text": [
      "<div class=\"tombstone-container\">\n",
      " <p class=\"period-name\">\n",
      "  Tonight\n",
      "  <br/>\n",
      "  <br/>\n",
      " </p>\n",
      " <p>\n",
      "  <img alt=\"Tonight: Partly cloudy, with a low around 48. North wind 5 to 7 mph. \" class=\"forecast-icon\" src=\"newimages/medium/nsct.png\" title=\"Tonight: Partly cloudy, with a low around 48. North wind 5 to 7 mph. \"/>\n",
      " </p>\n",
      " <p class=\"short-desc\">\n",
      "  Partly Cloudy\n",
      " </p>\n",
      " <p class=\"temp temp-low\">\n",
      "  Low: 48 °F\n",
      " </p>\n",
      "</div>\n"
     ]
    }
   ],
   "source": [
    "import requests\n",
    "page = requests.get(\"https://forecast.weather.gov/MapClick.php?lat=37.7772&lon=-122.4168#.YYjBZWBBxPZ\")\n",
    "page\n",
    "\n",
    "from bs4 import BeautifulSoup\n",
    "soup = BeautifulSoup(page.content, 'html.parser')\n",
    "\n",
    "\n",
    "page = requests.get(\"https://forecast.weather.gov/MapClick.php?lat=37.7772&lon=-122.4168#.YYjBZWBBxPZ\")\n",
    "soup = BeautifulSoup(page.content, 'html.parser')\n",
    "seven_day = soup.find(id=\"seven-day-forecast\")\n",
    "forecast_items = seven_day.find_all(class_=\"tombstone-container\")\n",
    "tonight = forecast_items[0]\n",
    "print(tonight.prettify())"
   ]
  },
  {
   "cell_type": "code",
   "execution_count": 9,
   "id": "d4395da2",
   "metadata": {},
   "outputs": [
    {
     "name": "stdout",
     "output_type": "stream",
     "text": [
      "Tonight\n",
      "Partly Cloudy\n",
      "Low: 48 °F\n"
     ]
    }
   ],
   "source": [
    "period = tonight.find(class_=\"period-name\").get_text()\n",
    "short_desc = tonight.find(class_=\"short-desc\").get_text()\n",
    "temp = tonight.find(class_=\"temp\").get_text()\n",
    "print(period)\n",
    "print(short_desc)\n",
    "print(temp)"
   ]
  },
  {
   "cell_type": "code",
   "execution_count": 10,
   "id": "6977d13b",
   "metadata": {},
   "outputs": [
    {
     "name": "stdout",
     "output_type": "stream",
     "text": [
      "Tonight: Partly cloudy, with a low around 48. North wind 5 to 7 mph. \n"
     ]
    }
   ],
   "source": [
    "img = tonight.find(\"img\")\n",
    "desc = img['title']\n",
    "print(desc)"
   ]
  },
  {
   "cell_type": "code",
   "execution_count": 11,
   "id": "11aff11b",
   "metadata": {},
   "outputs": [
    {
     "data": {
      "text/plain": [
       "['Tonight',\n",
       " 'Monday',\n",
       " 'MondayNight',\n",
       " 'Tuesday',\n",
       " 'TuesdayNight',\n",
       " 'Wednesday',\n",
       " 'WednesdayNight',\n",
       " 'VeteransDay',\n",
       " 'ThursdayNight']"
      ]
     },
     "execution_count": 11,
     "metadata": {},
     "output_type": "execute_result"
    }
   ],
   "source": [
    "#to extract everything at once.\n",
    "#Use a list comprehension to call the get_text method on each BeautifulSoup object.\n",
    "period_tags = seven_day.select(\".tombstone-container .period-name\")\n",
    "periods = [pt.get_text() for pt in period_tags]\n",
    "periods"
   ]
  },
  {
   "cell_type": "code",
   "execution_count": 15,
   "id": "b004a976",
   "metadata": {},
   "outputs": [
    {
     "name": "stdout",
     "output_type": "stream",
     "text": [
      "['Partly Cloudy', 'Slight ChanceRain thenRain', 'Showers andBreezy', 'Rain', 'Chance Rainthen MostlyCloudy', 'Patchy Fogthen MostlySunny', 'Mostly Clear', 'Sunny', 'Mostly Clear']\n",
      "['Low: 48 °F', 'High: 62 °F', 'Low: 56 °F', 'High: 65 °F', 'Low: 54 °F', 'High: 64 °F', 'Low: 53 °F', 'High: 67 °F', 'Low: 53 °F']\n",
      "['Tonight: Partly cloudy, with a low around 48. North wind 5 to 7 mph. ', 'Monday: Rain, mainly after 4pm.  High near 62. Calm wind becoming southwest 5 to 9 mph in the morning.  Chance of precipitation is 80%. New precipitation amounts between a tenth and quarter of an inch possible. ', 'Monday Night: Rain before 10pm, then showers and possibly a thunderstorm between 10pm and 4am, then rain and possibly a thunderstorm after 4am.  Steady temperature around 56. Breezy, with a south wind 16 to 23 mph, with gusts as high as 41 mph.  Chance of precipitation is 100%. New rainfall amounts between three quarters and one inch possible. ', 'Tuesday: Rain, mainly before 4pm.  High near 65. West southwest wind 5 to 7 mph becoming calm  in the morning.  Chance of precipitation is 90%. New precipitation amounts between a tenth and quarter of an inch possible. ', 'Tuesday Night: A 30 percent chance of rain before 10pm.  Mostly cloudy, with a low around 54. Northwest wind 5 to 8 mph becoming calm  in the evening. ', 'Wednesday: Patchy fog between 7am and 8am.  Otherwise, mostly sunny, with a high near 64.', 'Wednesday Night: Mostly clear, with a low around 53.', 'Veterans Day: Sunny, with a high near 67.', 'Thursday Night: Mostly clear, with a low around 53.']\n"
     ]
    }
   ],
   "source": [
    "short_descs = [sd.get_text() for sd in seven_day.select(\".tombstone-container .short-desc\")]\n",
    "print(short_descs)\n",
    "temps = [t.get_text() for t in seven_day.select(\".tombstone-container .temp\")]\n",
    "descs = [d[\"title\"] for d in seven_day.select(\".tombstone-container img\")]\n",
    "print(temps)\n",
    "print(descs)"
   ]
  },
  {
   "cell_type": "code",
   "execution_count": 16,
   "id": "44a82f8c",
   "metadata": {},
   "outputs": [
    {
     "data": {
      "text/html": [
       "<div>\n",
       "<style scoped>\n",
       "    .dataframe tbody tr th:only-of-type {\n",
       "        vertical-align: middle;\n",
       "    }\n",
       "\n",
       "    .dataframe tbody tr th {\n",
       "        vertical-align: top;\n",
       "    }\n",
       "\n",
       "    .dataframe thead th {\n",
       "        text-align: right;\n",
       "    }\n",
       "</style>\n",
       "<table border=\"1\" class=\"dataframe\">\n",
       "  <thead>\n",
       "    <tr style=\"text-align: right;\">\n",
       "      <th></th>\n",
       "      <th>period</th>\n",
       "      <th>short_desc</th>\n",
       "      <th>temp</th>\n",
       "      <th>desc</th>\n",
       "    </tr>\n",
       "  </thead>\n",
       "  <tbody>\n",
       "    <tr>\n",
       "      <th>0</th>\n",
       "      <td>Tonight</td>\n",
       "      <td>Partly Cloudy</td>\n",
       "      <td>Low: 48 °F</td>\n",
       "      <td>Tonight: Partly cloudy, with a low around 48. ...</td>\n",
       "    </tr>\n",
       "    <tr>\n",
       "      <th>1</th>\n",
       "      <td>Monday</td>\n",
       "      <td>Slight ChanceRain thenRain</td>\n",
       "      <td>High: 62 °F</td>\n",
       "      <td>Monday: Rain, mainly after 4pm.  High near 62....</td>\n",
       "    </tr>\n",
       "    <tr>\n",
       "      <th>2</th>\n",
       "      <td>MondayNight</td>\n",
       "      <td>Showers andBreezy</td>\n",
       "      <td>Low: 56 °F</td>\n",
       "      <td>Monday Night: Rain before 10pm, then showers a...</td>\n",
       "    </tr>\n",
       "    <tr>\n",
       "      <th>3</th>\n",
       "      <td>Tuesday</td>\n",
       "      <td>Rain</td>\n",
       "      <td>High: 65 °F</td>\n",
       "      <td>Tuesday: Rain, mainly before 4pm.  High near 6...</td>\n",
       "    </tr>\n",
       "    <tr>\n",
       "      <th>4</th>\n",
       "      <td>TuesdayNight</td>\n",
       "      <td>Chance Rainthen MostlyCloudy</td>\n",
       "      <td>Low: 54 °F</td>\n",
       "      <td>Tuesday Night: A 30 percent chance of rain bef...</td>\n",
       "    </tr>\n",
       "    <tr>\n",
       "      <th>5</th>\n",
       "      <td>Wednesday</td>\n",
       "      <td>Patchy Fogthen MostlySunny</td>\n",
       "      <td>High: 64 °F</td>\n",
       "      <td>Wednesday: Patchy fog between 7am and 8am.  Ot...</td>\n",
       "    </tr>\n",
       "    <tr>\n",
       "      <th>6</th>\n",
       "      <td>WednesdayNight</td>\n",
       "      <td>Mostly Clear</td>\n",
       "      <td>Low: 53 °F</td>\n",
       "      <td>Wednesday Night: Mostly clear, with a low arou...</td>\n",
       "    </tr>\n",
       "    <tr>\n",
       "      <th>7</th>\n",
       "      <td>VeteransDay</td>\n",
       "      <td>Sunny</td>\n",
       "      <td>High: 67 °F</td>\n",
       "      <td>Veterans Day: Sunny, with a high near 67.</td>\n",
       "    </tr>\n",
       "    <tr>\n",
       "      <th>8</th>\n",
       "      <td>ThursdayNight</td>\n",
       "      <td>Mostly Clear</td>\n",
       "      <td>Low: 53 °F</td>\n",
       "      <td>Thursday Night: Mostly clear, with a low aroun...</td>\n",
       "    </tr>\n",
       "  </tbody>\n",
       "</table>\n",
       "</div>"
      ],
      "text/plain": [
       "           period                    short_desc         temp  \\\n",
       "0         Tonight                 Partly Cloudy   Low: 48 °F   \n",
       "1          Monday    Slight ChanceRain thenRain  High: 62 °F   \n",
       "2     MondayNight             Showers andBreezy   Low: 56 °F   \n",
       "3         Tuesday                          Rain  High: 65 °F   \n",
       "4    TuesdayNight  Chance Rainthen MostlyCloudy   Low: 54 °F   \n",
       "5       Wednesday    Patchy Fogthen MostlySunny  High: 64 °F   \n",
       "6  WednesdayNight                  Mostly Clear   Low: 53 °F   \n",
       "7     VeteransDay                         Sunny  High: 67 °F   \n",
       "8   ThursdayNight                  Mostly Clear   Low: 53 °F   \n",
       "\n",
       "                                                desc  \n",
       "0  Tonight: Partly cloudy, with a low around 48. ...  \n",
       "1  Monday: Rain, mainly after 4pm.  High near 62....  \n",
       "2  Monday Night: Rain before 10pm, then showers a...  \n",
       "3  Tuesday: Rain, mainly before 4pm.  High near 6...  \n",
       "4  Tuesday Night: A 30 percent chance of rain bef...  \n",
       "5  Wednesday: Patchy fog between 7am and 8am.  Ot...  \n",
       "6  Wednesday Night: Mostly clear, with a low arou...  \n",
       "7          Veterans Day: Sunny, with a high near 67.  \n",
       "8  Thursday Night: Mostly clear, with a low aroun...  "
      ]
     },
     "execution_count": 16,
     "metadata": {},
     "output_type": "execute_result"
    }
   ],
   "source": [
    "#Combining our data into a Pandas Dataframe\n",
    "import pandas as pd  \n",
    "weather = pd.DataFrame({\n",
    "    \"period\": periods,\n",
    "    \"short_desc\": short_descs,\n",
    "    \"temp\": temps,\n",
    "    \"desc\":descs\n",
    "})\n",
    "weather"
   ]
  },
  {
   "cell_type": "code",
   "execution_count": null,
   "id": "c2f3c278",
   "metadata": {},
   "outputs": [],
   "source": []
  }
 ],
 "metadata": {
  "kernelspec": {
   "display_name": "Python 3 (ipykernel)",
   "language": "python",
   "name": "python3"
  },
  "language_info": {
   "codemirror_mode": {
    "name": "ipython",
    "version": 3
   },
   "file_extension": ".py",
   "mimetype": "text/x-python",
   "name": "python",
   "nbconvert_exporter": "python",
   "pygments_lexer": "ipython3",
   "version": "3.8.8"
  }
 },
 "nbformat": 4,
 "nbformat_minor": 5
}
